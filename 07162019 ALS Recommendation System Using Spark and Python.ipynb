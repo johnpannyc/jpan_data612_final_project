{
 "cells": [
  {
   "cell_type": "markdown",
   "metadata": {},
   "source": [
    "Jun Pan 07/11//2019\n",
    "\n",
    "INTRODUCE OF PROJECT\n",
    "\n",
    "DATABASE\n",
    "\n",
    "MovieLens is a web-based recommender system and virtual community that recommends movies for its users to watch, based on their film preferences using collaborative filtering of members' movie ratings and movie reviews. It contains about 11 million ratings for about 10000 movies.[1] MovieLens was created in 1997 by GroupLens Research, a research lab in the Department of Computer Science and Engineering at the University of Minnesota in order to gather research data on personalized recommendations. In this study, we are going to use a 100k database originally from movieLens, which inclusing movies, ratings, links and tags four files.  In this dataset, we have 100,004 ratings which were rated by 671 users on 9066 movies.\n",
    "\n",
    "The posters of movies can get it from www.themoviedb.org.  We need get api key in advance in order to fetch the posters. \n",
    "\n",
    "ALTERNATING LEAST SQUARES ALGORITHM\n",
    "Collaborative filtering is commonly used for recommender systems. These techniques aim to fill in the missing entries of a user-item association matrix. 'spark.mllib' currently supports model-based collaborative filtering, in which users and products are described by a small set of latent factors that can be used to predict missing entries. 'spark.mllib' uses the alternating least squares (ALS) algorithm to learn these latent factors [2]. When using collaborative filtering, getting recommendations is not as simple as predicting for the new entries using a previously generated model. Instead, we need to train again the model but including the new user preferences in order to compare them with other users in the dataset. That is, the recommender needs to be trained every time we have new user ratings (although a single model can be used by multiple users). This makes the process expensive, and it is one of the reasons why scalability is a problem (and Spark a solution!). \n",
    "\n",
    "SPARK\n",
    "Spark is a platform for cluster computing. Spark lets you spread data and computations over clusters with multiple nodes (think of each node as a separate computer). Splitting up your data makes it easier to work with very large datasets because each node only works with a small amount of data.\n",
    "\n",
    "As each node works on its own subset of the total data, it also carries out a part of the total calculations required, so that both data processing and computation are performed in parallel over the nodes in the cluster. It is a fact that parallel computation can make certain types of programming tasks much faster [3].\n",
    "\n",
    "Spark will be used locally in our study."
   ]
  },
  {
   "cell_type": "code",
   "execution_count": 1,
   "metadata": {},
   "outputs": [],
   "source": [
    "#Set Working Environment\n",
    "import pyspark as ps\n",
    "from pyspark.ml.tuning import CrossValidator\n",
    "from pyspark.sql import functions as F\n",
    "from pyspark.sql import DataFrameNaFunctions as DFna\n",
    "from pyspark.sql.functions import udf, col, when\n",
    "from pyspark.sql.functions import col\n",
    "from pyspark.ml.recommendation import ALS\n",
    "from pyspark.ml.evaluation import RegressionEvaluator\n",
    "from pyspark.ml import Pipeline\n",
    "from pyspark.sql import Row\n",
    "from pyspark.ml.tuning import ParamGridBuilder\n",
    "\n",
    "import numpy as np\n",
    "import pandas as pd\n",
    "import random\n",
    "import math\n",
    "import matplotlib.pyplot as plt\n",
    "import os, sys, requests, json\n",
    "\n",
    "\n",
    "\n",
    "spark = ps.sql.SparkSession.builder \\\n",
    "            .master(\"local[4]\") \\\n",
    "            .appName(\"building recommender\") \\\n",
    "            .getOrCreate() # create a spark session\n",
    "            \n",
    "sc = spark.sparkContext # create a spark context"
   ]
  },
  {
   "cell_type": "code",
   "execution_count": 2,
   "metadata": {},
   "outputs": [
    {
     "name": "stdout",
     "output_type": "stream",
     "text": [
      "+-------+--------------------+--------------------+\n",
      "|movieId|               title|              genres|\n",
      "+-------+--------------------+--------------------+\n",
      "|      1|    Toy Story (1995)|Adventure|Animati...|\n",
      "|      2|      Jumanji (1995)|Adventure|Childre...|\n",
      "|      3|Grumpier Old Men ...|      Comedy|Romance|\n",
      "|      4|Waiting to Exhale...|Comedy|Drama|Romance|\n",
      "|      5|Father of the Bri...|              Comedy|\n",
      "|      6|         Heat (1995)|Action|Crime|Thri...|\n",
      "|      7|      Sabrina (1995)|      Comedy|Romance|\n",
      "|      8| Tom and Huck (1995)|  Adventure|Children|\n",
      "|      9| Sudden Death (1995)|              Action|\n",
      "|     10|    GoldenEye (1995)|Action|Adventure|...|\n",
      "|     11|American Presiden...|Comedy|Drama|Romance|\n",
      "|     12|Dracula: Dead and...|       Comedy|Horror|\n",
      "|     13|        Balto (1995)|Adventure|Animati...|\n",
      "|     14|        Nixon (1995)|               Drama|\n",
      "|     15|Cutthroat Island ...|Action|Adventure|...|\n",
      "|     16|       Casino (1995)|         Crime|Drama|\n",
      "|     17|Sense and Sensibi...|       Drama|Romance|\n",
      "|     18|   Four Rooms (1995)|              Comedy|\n",
      "|     19|Ace Ventura: When...|              Comedy|\n",
      "|     20|  Money Train (1995)|Action|Comedy|Cri...|\n",
      "+-------+--------------------+--------------------+\n",
      "only showing top 20 rows\n",
      "\n"
     ]
    }
   ],
   "source": [
    "# read movies CSV using spark \n",
    "#reference: https://stackoverflow.com/questions/28782940/load-csv-file-with-spark\n",
    "movies_df = spark.read.csv('C:/Users/tbao/Desktop/data612 final project/movies/movies.csv',\n",
    "                         header=True, quote='\"', sep=\",\", inferSchema=True) \n",
    "movies_df.show()"
   ]
  },
  {
   "cell_type": "code",
   "execution_count": 3,
   "metadata": {},
   "outputs": [
    {
     "name": "stdout",
     "output_type": "stream",
     "text": [
      "root\n",
      " |-- movieId: integer (nullable = true)\n",
      " |-- title: string (nullable = true)\n",
      " |-- genres: string (nullable = true)\n",
      "\n"
     ]
    }
   ],
   "source": [
    "#View Schema\n",
    "movies_df.printSchema()"
   ]
  },
  {
   "cell_type": "code",
   "execution_count": 4,
   "metadata": {},
   "outputs": [
    {
     "name": "stdout",
     "output_type": "stream",
     "text": [
      "+------+-------+------+----------+\n",
      "|userId|movieId|rating| timestamp|\n",
      "+------+-------+------+----------+\n",
      "|     1|     31|   2.5|1260759144|\n",
      "|     1|   1029|   3.0|1260759179|\n",
      "|     1|   1061|   3.0|1260759182|\n",
      "|     1|   1129|   2.0|1260759185|\n",
      "|     1|   1172|   4.0|1260759205|\n",
      "|     1|   1263|   2.0|1260759151|\n",
      "|     1|   1287|   2.0|1260759187|\n",
      "|     1|   1293|   2.0|1260759148|\n",
      "|     1|   1339|   3.5|1260759125|\n",
      "|     1|   1343|   2.0|1260759131|\n",
      "|     1|   1371|   2.5|1260759135|\n",
      "|     1|   1405|   1.0|1260759203|\n",
      "|     1|   1953|   4.0|1260759191|\n",
      "|     1|   2105|   4.0|1260759139|\n",
      "|     1|   2150|   3.0|1260759194|\n",
      "|     1|   2193|   2.0|1260759198|\n",
      "|     1|   2294|   2.0|1260759108|\n",
      "|     1|   2455|   2.5|1260759113|\n",
      "|     1|   2968|   1.0|1260759200|\n",
      "|     1|   3671|   3.0|1260759117|\n",
      "+------+-------+------+----------+\n",
      "only showing top 20 rows\n",
      "\n"
     ]
    }
   ],
   "source": [
    "# read ratings CSV\n",
    "ratings_df = spark.read.csv('C:/Users/tbao/Desktop/data612 final project/movies/ratings.csv',\n",
    "                         header=True, quote='\"', sep=\",\", inferSchema=True)\n",
    "ratings_df.show()"
   ]
  },
  {
   "cell_type": "code",
   "execution_count": 5,
   "metadata": {},
   "outputs": [
    {
     "name": "stdout",
     "output_type": "stream",
     "text": [
      "+------+-------+------+----------+\n",
      "|userId|movieId|rating| timestamp|\n",
      "+------+-------+------+----------+\n",
      "|     1|     31|   2.5|1260759144|\n",
      "|     1|   1029|   3.0|1260759179|\n",
      "|     1|   1061|   3.0|1260759182|\n",
      "|     1|   1129|   2.0|1260759185|\n",
      "|     1|   1172|   4.0|1260759205|\n",
      "|     1|   1263|   2.0|1260759151|\n",
      "|     1|   1287|   2.0|1260759187|\n",
      "|     1|   1293|   2.0|1260759148|\n",
      "|     1|   1339|   3.5|1260759125|\n",
      "|     1|   1343|   2.0|1260759131|\n",
      "|     1|   1371|   2.5|1260759135|\n",
      "|     1|   1405|   1.0|1260759203|\n",
      "|     1|   1953|   4.0|1260759191|\n",
      "|     1|   2105|   4.0|1260759139|\n",
      "|     1|   2150|   3.0|1260759194|\n",
      "|     1|   2193|   2.0|1260759198|\n",
      "|     1|   2294|   2.0|1260759108|\n",
      "|     1|   2455|   2.5|1260759113|\n",
      "|     1|   2968|   1.0|1260759200|\n",
      "|     1|   3671|   3.0|1260759117|\n",
      "+------+-------+------+----------+\n",
      "only showing top 20 rows\n",
      "\n"
     ]
    }
   ],
   "source": [
    "# Filter to show only \"userId\" less than 100\n",
    "ratings_df.filter(col(\"userId\") < 100).show()"
   ]
  },
  {
   "cell_type": "code",
   "execution_count": 6,
   "metadata": {},
   "outputs": [
    {
     "name": "stdout",
     "output_type": "stream",
     "text": [
      "100004\n",
      "671\n",
      "9066\n"
     ]
    }
   ],
   "source": [
    "# Count the number of distinct userIds and distinct movieIds\n",
    "total_count = ratings_df.count()\n",
    "num_users = ratings_df.select(\"userId\").distinct().count()\n",
    "num_movies = ratings_df.select(\"movieId\").distinct().count()\n",
    "print(total_count)\n",
    "print(num_users)\n",
    "print(num_movies)"
   ]
  },
  {
   "cell_type": "markdown",
   "metadata": {},
   "source": [
    "So total ratings in this dataset are 100,004; total number of unique users are 671; total unique movies in the dataset are 9066"
   ]
  },
  {
   "cell_type": "code",
   "execution_count": 7,
   "metadata": {},
   "outputs": [
    {
     "name": "stdout",
     "output_type": "stream",
     "text": [
      "+------+-----+\n",
      "|userId|count|\n",
      "+------+-----+\n",
      "|   148|  132|\n",
      "|   463|  483|\n",
      "|   471|  216|\n",
      "|   496|  126|\n",
      "|   243|  307|\n",
      "|   392|   25|\n",
      "|   540|   20|\n",
      "|   623|  103|\n",
      "|    31|   69|\n",
      "|   516|  149|\n",
      "|    85|  107|\n",
      "|   137|   80|\n",
      "|   251|  119|\n",
      "|   451|   52|\n",
      "|   580|  922|\n",
      "|    65|   27|\n",
      "|   458|   76|\n",
      "|    53|   46|\n",
      "|   255|  145|\n",
      "|   481|  436|\n",
      "+------+-----+\n",
      "only showing top 20 rows\n",
      "\n"
     ]
    }
   ],
   "source": [
    "# Group data by userId, count movies (total numbers of movies rated by each user)\n",
    "ratings_df.groupBy(\"userId\").count().show()"
   ]
  },
  {
   "cell_type": "code",
   "execution_count": 8,
   "metadata": {},
   "outputs": [
    {
     "name": "stdout",
     "output_type": "stream",
     "text": [
      "+-------+------+\n",
      "|movieId|counts|\n",
      "+-------+------+\n",
      "|   1580|   190|\n",
      "|   2659|     3|\n",
      "|   3794|     5|\n",
      "|   3175|    65|\n",
      "|    471|    49|\n",
      "|   1088|    53|\n",
      "|   1342|    17|\n",
      "|   1645|    60|\n",
      "|   2366|    23|\n",
      "|   6620|    17|\n",
      "|   8638|    17|\n",
      "|  96488|     4|\n",
      "| 160563|     2|\n",
      "|   7982|     3|\n",
      "|   1238|    17|\n",
      "|   1959|    30|\n",
      "|    463|     7|\n",
      "|   2122|    11|\n",
      "|   1591|    15|\n",
      "|   5518|     1|\n",
      "+-------+------+\n",
      "only showing top 20 rows\n",
      "\n"
     ]
    }
   ],
   "source": [
    "movies_counts = ratings_df.groupBy(col(\"movieId\")).agg(F.count(col(\"rating\")).alias(\"counts\"))\n",
    "movies_counts.show()"
   ]
  },
  {
   "cell_type": "code",
   "execution_count": 9,
   "metadata": {},
   "outputs": [
    {
     "name": "stdout",
     "output_type": "stream",
     "text": [
      "root\n",
      " |-- userId: integer (nullable = true)\n",
      " |-- movieId: integer (nullable = true)\n",
      " |-- rating: double (nullable = true)\n",
      " |-- timestamp: integer (nullable = true)\n",
      "\n"
     ]
    }
   ],
   "source": [
    "#View Schema\n",
    "ratings_df.printSchema()"
   ]
  },
  {
   "cell_type": "code",
   "execution_count": 10,
   "metadata": {},
   "outputs": [
    {
     "name": "stdout",
     "output_type": "stream",
     "text": [
      "+-------+------+------+\n",
      "|movieId|imdbId|tmdbId|\n",
      "+-------+------+------+\n",
      "|      1|114709|   862|\n",
      "|      2|113497|  8844|\n",
      "|      3|113228| 15602|\n",
      "|      4|114885| 31357|\n",
      "|      5|113041| 11862|\n",
      "|      6|113277|   949|\n",
      "|      7|114319| 11860|\n",
      "|      8|112302| 45325|\n",
      "|      9|114576|  9091|\n",
      "|     10|113189|   710|\n",
      "|     11|112346|  9087|\n",
      "|     12|112896| 12110|\n",
      "|     13|112453| 21032|\n",
      "|     14|113987| 10858|\n",
      "|     15|112760|  1408|\n",
      "|     16|112641|   524|\n",
      "|     17|114388|  4584|\n",
      "|     18|113101|     5|\n",
      "|     19|112281|  9273|\n",
      "|     20|113845| 11517|\n",
      "+-------+------+------+\n",
      "only showing top 20 rows\n",
      "\n"
     ]
    }
   ],
   "source": [
    "# read links CSV\n",
    "links_df = spark.read.csv('C:/Users/tbao/Desktop/data612 final project/movies/links.csv',\n",
    "                         header=True, quote='\"', sep=\",\", inferSchema=True)\n",
    "links_df.show()"
   ]
  },
  {
   "cell_type": "code",
   "execution_count": 11,
   "metadata": {},
   "outputs": [
    {
     "name": "stdout",
     "output_type": "stream",
     "text": [
      "root\n",
      " |-- movieId: integer (nullable = true)\n",
      " |-- imdbId: integer (nullable = true)\n",
      " |-- tmdbId: integer (nullable = true)\n",
      "\n"
     ]
    }
   ],
   "source": [
    "#View Schema\n",
    "links_df.printSchema()"
   ]
  },
  {
   "cell_type": "code",
   "execution_count": 12,
   "metadata": {},
   "outputs": [
    {
     "name": "stdout",
     "output_type": "stream",
     "text": [
      "+------+-------+--------------------+----------+\n",
      "|userId|movieId|                 tag| timestamp|\n",
      "+------+-------+--------------------+----------+\n",
      "|    15|    339|sandra 'boring' b...|1138537770|\n",
      "|    15|   1955|             dentist|1193435061|\n",
      "|    15|   7478|            Cambodia|1170560997|\n",
      "|    15|  32892|             Russian|1170626366|\n",
      "|    15|  34162|         forgettable|1141391765|\n",
      "|    15|  35957|               short|1141391873|\n",
      "|    15|  37729|          dull story|1141391806|\n",
      "|    15|  45950|          powerpoint|1169616291|\n",
      "|    15| 100365|            activist|1425876220|\n",
      "|    15| 100365|         documentary|1425876220|\n",
      "|    15| 100365|              uganda|1425876220|\n",
      "|    23|    150|          Ron Howard|1148672905|\n",
      "|    68|   2174|               music|1249808064|\n",
      "|    68|   2174|               weird|1249808102|\n",
      "|    68|   8623|        Steve Martin|1249808497|\n",
      "|    73| 107999|              action|1430799184|\n",
      "|    73| 107999|               anime|1430799184|\n",
      "|    73| 107999|             kung fu|1430799184|\n",
      "|    73| 111624|               drama|1431584497|\n",
      "|    73| 111624|               indie|1431584497|\n",
      "+------+-------+--------------------+----------+\n",
      "only showing top 20 rows\n",
      "\n"
     ]
    }
   ],
   "source": [
    "# read links CSV\n",
    "tags_df = spark.read.csv('C:/Users/tbao/Desktop/data612 final project/movies/tags.csv',\n",
    "                         header=True, quote='\"', sep=\",\", inferSchema=True)\n",
    "tags_df.show()"
   ]
  },
  {
   "cell_type": "code",
   "execution_count": 13,
   "metadata": {},
   "outputs": [
    {
     "name": "stdout",
     "output_type": "stream",
     "text": [
      "root\n",
      " |-- userId: integer (nullable = true)\n",
      " |-- movieId: integer (nullable = true)\n",
      " |-- tag: string (nullable = true)\n",
      " |-- timestamp: integer (nullable = true)\n",
      "\n"
     ]
    }
   ],
   "source": [
    "#View Schema\n",
    "tags_df.printSchema()"
   ]
  },
  {
   "cell_type": "markdown",
   "metadata": {},
   "source": [
    "After review all the dataset, we are going to build ALS model to train the data.  \n",
    "Firstly, we are going to get and parse movies and ratings data into Spark RDDs. Resilient Distributed Datasets (RDD) is a fundamental data structure of Spark. It is an immutable distributed collection of objects. Each dataset in RDD is divided into logical partitions, which may be computed on different nodes of the cluster. RDDs can contain any type of Python, Java, or Scala objects, including user-defined classes [4]. "
   ]
  },
  {
   "cell_type": "code",
   "execution_count": 14,
   "metadata": {},
   "outputs": [
    {
     "name": "stdout",
     "output_type": "stream",
     "text": [
      "100004 671 9066\n"
     ]
    }
   ],
   "source": [
    "#datafram before \n",
    "ratings = ratings_df.rdd\n",
    "numRatings = ratings.count()\n",
    "numUsers = ratings.map(lambda r: r[0]).distinct().count()\n",
    "numMovies = ratings.map(lambda r: r[1]).distinct().count()\n",
    "\n",
    "print(numRatings, numUsers, numMovies)"
   ]
  },
  {
   "cell_type": "code",
   "execution_count": 15,
   "metadata": {},
   "outputs": [],
   "source": [
    "#Split dataset train (60%), validation (20%), test (20%)\n",
    "training_df, validation_df, test_df = ratings_df.randomSplit([.6, .2, .2], seed=123)"
   ]
  },
  {
   "cell_type": "code",
   "execution_count": 16,
   "metadata": {},
   "outputs": [
    {
     "data": {
      "text/plain": [
       "DataFrame[userId: int, movieId: int, rating: double, timestamp: int]"
      ]
     },
     "execution_count": 16,
     "metadata": {},
     "output_type": "execute_result"
    }
   ],
   "source": [
    "training_df"
   ]
  },
  {
   "cell_type": "markdown",
   "metadata": {},
   "source": [
    "Secondly, we are going to build an ALS based recommender system. ALS recommender is a matrix factorization algorithm that uses Alternating Least Squares with Weighted-Lamda-Regularization (ALS-WR). It makes the regularization parameter less dependent on the scale of the dataset. This way the best parameter learned from the sampled subset can be aplied to the full dataset and we will get similar performance. The latent factors should explain the observed user to item ratings and map new users to optimal movie recommendations. Accuracy of ALS recommendation system will be checked by using RMSE.\n",
    "We set the following parameters for alternating least squares model. We overiew the ranks and pick the best model. RMSE are used for error checking."
   ]
  },
  {
   "cell_type": "code",
   "execution_count": 17,
   "metadata": {},
   "outputs": [],
   "source": [
    "seed = 123\n",
    "iterations = 10\n",
    "regularization_parameter = 0.1\n",
    "ranks = range(4, 12)\n",
    "errors = []\n",
    "err = 0\n",
    "tolerance = 0.02"
   ]
  },
  {
   "cell_type": "code",
   "execution_count": 18,
   "metadata": {},
   "outputs": [
    {
     "name": "stdout",
     "output_type": "stream",
     "text": [
      "4 0.9338392118912122\n",
      "5 0.9288530101854114\n",
      "6 0.9395727152626402\n",
      "7 0.9355229914153406\n",
      "8 0.944128278794981\n",
      "9 0.9403311102506741\n",
      "10 0.941391022801686\n",
      "11 0.9423956026252883\n",
      "5\n"
     ]
    }
   ],
   "source": [
    "min_error = float('inf')\n",
    "best_rank = -1\n",
    "best_iteration = -1\n",
    "\n",
    "for rank in ranks:\n",
    "    als = ALS(maxIter=iterations, regParam=regularization_parameter, rank=rank, userCol=\"userId\", itemCol=\"movieId\", ratingCol=\"rating\")\n",
    "    model = als.fit(training_df)\n",
    "    predictions = model.transform(validation_df)\n",
    "    new_predictions = predictions.filter(col('prediction') != np.nan)\n",
    "    evaluator = RegressionEvaluator(metricName=\"rmse\", labelCol=\"rating\", predictionCol=\"prediction\")\n",
    "    rmse = evaluator.evaluate(new_predictions)\n",
    "    errors.append(rmse)\n",
    "\n",
    "    print(rank, rmse)\n",
    "    if rmse < min_error:\n",
    "        min_error = rmse\n",
    "        best_rank = rank\n",
    "print(best_rank)"
   ]
  },
  {
   "cell_type": "markdown",
   "metadata": {},
   "source": [
    "It shows that rank 4 is the best, then we choose it as final model and check the RMSE value"
   ]
  },
  {
   "cell_type": "code",
   "execution_count": 19,
   "metadata": {},
   "outputs": [
    {
     "name": "stdout",
     "output_type": "stream",
     "text": [
      "0.9338392118912122\n"
     ]
    }
   ],
   "source": [
    "final_als = ALS(maxIter=10, \n",
    "                regParam=0.1, \n",
    "                rank=4, \n",
    "                userCol=\"userId\", \n",
    "                itemCol=\"movieId\", \n",
    "                ratingCol=\"rating\")\n",
    "final_model = final_als.fit(training_df)\n",
    "final_pred = final_model.transform(validation_df)\n",
    "final_pred = final_pred.filter(col('prediction') != np.nan)\n",
    "rmse = evaluator.evaluate(final_pred)\n",
    "print(rmse)"
   ]
  },
  {
   "cell_type": "markdown",
   "metadata": {},
   "source": [
    "Let's take random users by user_ids who have already rated some movies. Then, we get all of their ratings and sort to show the top 10 rated movies."
   ]
  },
  {
   "cell_type": "code",
   "execution_count": 20,
   "metadata": {},
   "outputs": [],
   "source": [
    "import random\n",
    "\n",
    "np.random.seed(42)\n",
    "user_id = np.random.choice(numUsers)"
   ]
  },
  {
   "cell_type": "code",
   "execution_count": 21,
   "metadata": {},
   "outputs": [
    {
     "data": {
      "text/plain": [
       "[Row(userId=102, movieId=2240, rating=1.0, timestamp=957894741),\n",
       " Row(userId=102, movieId=1888, rating=1.0, timestamp=957895013),\n",
       " Row(userId=102, movieId=37, rating=1.0, timestamp=959976593),\n",
       " Row(userId=102, movieId=3354, rating=1.0, timestamp=957893451),\n",
       " Row(userId=102, movieId=3484, rating=1.0, timestamp=957893428),\n",
       " Row(userId=102, movieId=3511, rating=1.0, timestamp=957893428),\n",
       " Row(userId=102, movieId=2541, rating=1.0, timestamp=957894760),\n",
       " Row(userId=102, movieId=2548, rating=1.0, timestamp=957980378),\n",
       " Row(userId=102, movieId=1584, rating=2.0, timestamp=957894285),\n",
       " Row(userId=102, movieId=590, rating=2.0, timestamp=957894532)]"
      ]
     },
     "execution_count": 21,
     "metadata": {},
     "output_type": "execute_result"
    }
   ],
   "source": [
    "#Showing 10 movie ratings of a random selected user\n",
    "new_user_ratings = ratings_df.filter(ratings_df.userId == user_id)\n",
    "new_user_ratings.sort('rating', ascending=True).take(10) "
   ]
  },
  {
   "cell_type": "code",
   "execution_count": 22,
   "metadata": {},
   "outputs": [
    {
     "name": "stdout",
     "output_type": "stream",
     "text": [
      "+-------+------------------+\n",
      "|summary|            rating|\n",
      "+-------+------------------+\n",
      "|  count|               678|\n",
      "|   mean|3.9749262536873156|\n",
      "| stddev|0.8529848074277973|\n",
      "|    min|               1.0|\n",
      "|    max|               5.0|\n",
      "+-------+------------------+\n",
      "\n"
     ]
    }
   ],
   "source": [
    "#Statistical analysis \n",
    "new_user_ratings.describe('rating').show()"
   ]
  },
  {
   "cell_type": "code",
   "execution_count": 23,
   "metadata": {},
   "outputs": [
    {
     "data": {
      "image/png": "[encoded data removed]",
      "text/plain": [
       "<Figure size 432x288 with 1 Axes>"
      ]
     },
     "metadata": {},
     "output_type": "display_data"
    }
   ],
   "source": [
    "new_user_ratings.toPandas()['rating'].hist()\n",
    "plt.show()"
   ]
  },
  {
   "cell_type": "markdown",
   "metadata": {},
   "source": [
    "Predict Unrated Movies\n",
    "Get a list of movieIds with more than 25 users given rating"
   ]
  },
  {
   "cell_type": "code",
   "execution_count": 24,
   "metadata": {},
   "outputs": [],
   "source": [
    "new_user_rated_movieIds = [i.movieId for i in new_user_ratings.select('movieId').distinct().collect()]\n",
    "movieIds = [i.movieId for i in movies_counts.filter(movies_counts.counts > 25).select('movieId').distinct().collect()]\n",
    "new_user_unrated_movieIds = list(set(movieIds) - set(new_user_rated_movieIds))"
   ]
  },
  {
   "cell_type": "markdown",
   "metadata": {},
   "source": [
    "Lets now take all the unrated movie id's for this user and create a spark dataframe with 0 for the predicted rating."
   ]
  },
  {
   "cell_type": "code",
   "execution_count": 25,
   "metadata": {},
   "outputs": [],
   "source": [
    "import time\n",
    "import sqlite3\n",
    "from pyspark.sql import SQLContext\n",
    "sqlContext = SQLContext(sc)\n",
    "\n",
    "num_ratings = len(new_user_unrated_movieIds)\n",
    "cols = ('userId', 'movieId', 'timestamp')\n",
    "timestamps = [int(time.time())] * num_ratings\n",
    "userIds = [user_id] * num_ratings\n",
    "# ratings = [0] * num_ratings\n",
    "new_user_preds = sqlContext.createDataFrame(zip(userIds, new_user_unrated_movieIds, timestamps), cols)"
   ]
  },
  {
   "cell_type": "code",
   "execution_count": 27,
   "metadata": {},
   "outputs": [],
   "source": [
    "new_user_preds = final_model.transform(new_user_preds).filter(col('prediction') != np.nan)"
   ]
  },
  {
   "cell_type": "code",
   "execution_count": 28,
   "metadata": {},
   "outputs": [
    {
     "data": {
      "text/plain": [
       "[Row(userId=102, movieId=951, timestamp=1563231968, prediction=4.814425468444824),\n",
       " Row(userId=102, movieId=39183, timestamp=1563231968, prediction=4.677949905395508),\n",
       " Row(userId=102, movieId=306, timestamp=1563231968, prediction=4.669471740722656),\n",
       " Row(userId=102, movieId=6016, timestamp=1563231968, prediction=4.65004825592041),\n",
       " Row(userId=102, movieId=5225, timestamp=1563231968, prediction=4.648679256439209),\n",
       " Row(userId=102, movieId=1223, timestamp=1563231968, prediction=4.644265651702881),\n",
       " Row(userId=102, movieId=3000, timestamp=1563231968, prediction=4.627032279968262),\n",
       " Row(userId=102, movieId=1060, timestamp=1563231968, prediction=4.601822853088379),\n",
       " Row(userId=102, movieId=44555, timestamp=1563231968, prediction=4.599433898925781),\n",
       " Row(userId=102, movieId=475, timestamp=1563231968, prediction=4.5262274742126465)]"
      ]
     },
     "execution_count": 28,
     "metadata": {},
     "output_type": "execute_result"
    }
   ],
   "source": [
    "new_user_preds.sort('prediction', ascending=False).take(10)"
   ]
  },
  {
   "cell_type": "markdown",
   "metadata": {},
   "source": [
    "We can search for movie posters by id in the movie database and then grab links to the image files from www.themoviedb.org. The API key are stored in environment vairable."
   ]
  },
  {
   "cell_type": "code",
   "execution_count": 83,
   "metadata": {},
   "outputs": [],
   "source": [
    "# Get base url filepath structure. w185 corresponds to size of movie poster.\n",
    "#reference: https://www.johannesbader.ch/2013/11/tutorial-download-posters-with-the-movie-database-api-in-python/\n",
    " \n",
    "api_key = '47c76540878f2d2afab2fde73129832b'\n",
    "\n",
    "headers = {'Accept': 'application/json'}\n",
    "payload = {'api_key': api_key} \n",
    "response = requests.get(\"http://api.themoviedb.org/3/configuration\", params=payload, headers=headers)\n",
    "response = json.loads(response.text)\n",
    "base_url = response['images']['base_url'] + 'w185'\n",
    "\n",
    "def get_poster(tmdb_id, base_url):\n",
    "    \n",
    "    # Query themoviedb.org API for movie poster path.\n",
    "    movie_url = 'http://api.themoviedb.org/3/movie/{:}/images'.format(tmdb_id)\n",
    "    headers = {'Accept': 'application/json'}\n",
    "    payload = {'api_key': api_key} \n",
    "    response = requests.get(movie_url, params=payload, headers=headers)\n",
    "    file_path = json.loads(response.text)['posters'][0]['file_path']\n",
    "    return base_url + file_path"
   ]
  },
  {
   "cell_type": "code",
   "execution_count": 84,
   "metadata": {},
   "outputs": [],
   "source": [
    "from IPython.display import Image\n",
    "from IPython.display import display"
   ]
  },
  {
   "cell_type": "markdown",
   "metadata": {},
   "source": [
    "Now that we have a pipeline to go directly from the TheMovieDB id to the url to displaying the movie poster. With this machinery in hand lets first get the top rated movies the user has already rated:"
   ]
  },
  {
   "cell_type": "code",
   "execution_count": 93,
   "metadata": {},
   "outputs": [],
   "source": [
    "new_user_ratings = new_user_ratings.sort('rating', ascending=False).join(links_df, new_user_ratings.movieId == links_df.movieId)"
   ]
  },
  {
   "cell_type": "code",
   "execution_count": 95,
   "metadata": {},
   "outputs": [],
   "source": [
    "posters = tuple(Image(url=get_poster(movie.tmdbId, base_url)) for movie in new_user_ratings.take(10))"
   ]
  },
  {
   "cell_type": "code",
   "execution_count": 96,
   "metadata": {},
   "outputs": [
    {
     "data": {
      "text/html": [
       "<img src=\"http://image.tmdb.org/t/p/w185/nGcgVnsL5yLKqg2X4OZcPetsHdd.jpg\"/>"
      ],
      "text/plain": [
       "<IPython.core.display.Image object>"
      ]
     },
     "metadata": {},
     "output_type": "display_data"
    },
    {
     "data": {
      "text/html": [
       "<img src=\"http://image.tmdb.org/t/p/w185/yzK39sdkGoiSyKZEWT6HQzaC0BX.jpg\"/>"
      ],
      "text/plain": [
       "<IPython.core.display.Image object>"
      ]
     },
     "metadata": {},
     "output_type": "display_data"
    },
    {
     "data": {
      "text/html": [
       "<img src=\"http://image.tmdb.org/t/p/w185/vWGGFgy36ZoOQJC9uA6FmaAw2ar.jpg\"/>"
      ],
      "text/plain": [
       "<IPython.core.display.Image object>"
      ]
     },
     "metadata": {},
     "output_type": "display_data"
    },
    {
     "data": {
      "text/html": [
       "<img src=\"http://image.tmdb.org/t/p/w185/5ek49TUeqStPmKwNdxrCSUAdXNe.jpg\"/>"
      ],
      "text/plain": [
       "<IPython.core.display.Image object>"
      ]
     },
     "metadata": {},
     "output_type": "display_data"
    },
    {
     "data": {
      "text/html": [
       "<img src=\"http://image.tmdb.org/t/p/w185/tvSlBzAdRE29bZe5yYWrJ2ds137.jpg\"/>"
      ],
      "text/plain": [
       "<IPython.core.display.Image object>"
      ]
     },
     "metadata": {},
     "output_type": "display_data"
    },
    {
     "data": {
      "text/html": [
       "<img src=\"http://image.tmdb.org/t/p/w185/jQLoOPwNxyILwDbdhn9DsfQz0Sg.jpg\"/>"
      ],
      "text/plain": [
       "<IPython.core.display.Image object>"
      ]
     },
     "metadata": {},
     "output_type": "display_data"
    },
    {
     "data": {
      "text/html": [
       "<img src=\"http://image.tmdb.org/t/p/w185/olViHNQHPy18SOJvbAI1bXUjHXI.jpg\"/>"
      ],
      "text/plain": [
       "<IPython.core.display.Image object>"
      ]
     },
     "metadata": {},
     "output_type": "display_data"
    },
    {
     "data": {
      "text/html": [
       "<img src=\"http://image.tmdb.org/t/p/w185/jvxLLHwpK52ZJUusd2RJv8oLHUJ.jpg\"/>"
      ],
      "text/plain": [
       "<IPython.core.display.Image object>"
      ]
     },
     "metadata": {},
     "output_type": "display_data"
    },
    {
     "data": {
      "text/html": [
       "<img src=\"http://image.tmdb.org/t/p/w185/mnZi4RJXDTkXzcnXyzGu1fFfRJJ.jpg\"/>"
      ],
      "text/plain": [
       "<IPython.core.display.Image object>"
      ]
     },
     "metadata": {},
     "output_type": "display_data"
    },
    {
     "data": {
      "text/html": [
       "<img src=\"http://image.tmdb.org/t/p/w185/zZhp7p8qvfVrSLKpOFHcKjpEj8f.jpg\"/>"
      ],
      "text/plain": [
       "<IPython.core.display.Image object>"
      ]
     },
     "metadata": {},
     "output_type": "display_data"
    }
   ],
   "source": [
    "display(*posters)"
   ]
  },
  {
   "cell_type": "markdown",
   "metadata": {},
   "source": [
    "Cool, now let's see what top recommendations are for this user."
   ]
  },
  {
   "cell_type": "code",
   "execution_count": 100,
   "metadata": {},
   "outputs": [],
   "source": [
    "new_user_preds = new_user_preds.sort('prediction', ascending=False).join(links_df, new_user_preds.movieId == links_df.movieId)"
   ]
  },
  {
   "cell_type": "code",
   "execution_count": 102,
   "metadata": {},
   "outputs": [],
   "source": [
    "posters = tuple(Image(url=get_poster(movie.tmdbId, base_url)) for movie in new_user_preds.take(10))"
   ]
  },
  {
   "cell_type": "code",
   "execution_count": 103,
   "metadata": {
    "scrolled": false
   },
   "outputs": [
    {
     "data": {
      "text/html": [
       "<img src=\"http://image.tmdb.org/t/p/w185/fmQLvnDEL9wlE6FzB1S84yskdkT.jpg\"/>"
      ],
      "text/plain": [
       "<IPython.core.display.Image object>"
      ]
     },
     "metadata": {},
     "output_type": "display_data"
    },
    {
     "data": {
      "text/html": [
       "<img src=\"http://image.tmdb.org/t/p/w185/z2DqVxj17aW6xpimRlCLfhKSfUm.jpg\"/>"
      ],
      "text/plain": [
       "<IPython.core.display.Image object>"
      ]
     },
     "metadata": {},
     "output_type": "display_data"
    },
    {
     "data": {
      "text/html": [
       "<img src=\"http://image.tmdb.org/t/p/w185/77CFEssoKesi4zvtADEpIrSKhA3.jpg\"/>"
      ],
      "text/plain": [
       "<IPython.core.display.Image object>"
      ]
     },
     "metadata": {},
     "output_type": "display_data"
    },
    {
     "data": {
      "text/html": [
       "<img src=\"http://image.tmdb.org/t/p/w185/gCqnQaq8T4CfioP9uETLx9iMJF4.jpg\"/>"
      ],
      "text/plain": [
       "<IPython.core.display.Image object>"
      ]
     },
     "metadata": {},
     "output_type": "display_data"
    },
    {
     "data": {
      "text/html": [
       "<img src=\"http://image.tmdb.org/t/p/w185/4n6lnr7q3Ysz4rKz3raxkltbHgr.jpg\"/>"
      ],
      "text/plain": [
       "<IPython.core.display.Image object>"
      ]
     },
     "metadata": {},
     "output_type": "display_data"
    },
    {
     "data": {
      "text/html": [
       "<img src=\"http://image.tmdb.org/t/p/w185/2Lcpn1Q3Fxwb7ZHy8UTFhogWhR2.jpg\"/>"
      ],
      "text/plain": [
       "<IPython.core.display.Image object>"
      ]
     },
     "metadata": {},
     "output_type": "display_data"
    },
    {
     "data": {
      "text/html": [
       "<img src=\"http://image.tmdb.org/t/p/w185/mNqZOtJIQfFQPjo3hmYLIn8Qqhf.jpg\"/>"
      ],
      "text/plain": [
       "<IPython.core.display.Image object>"
      ]
     },
     "metadata": {},
     "output_type": "display_data"
    },
    {
     "data": {
      "text/html": [
       "<img src=\"http://image.tmdb.org/t/p/w185/uVEWMdKVTTlilksTjZnm1HfaW3l.jpg\"/>"
      ],
      "text/plain": [
       "<IPython.core.display.Image object>"
      ]
     },
     "metadata": {},
     "output_type": "display_data"
    },
    {
     "data": {
      "text/html": [
       "<img src=\"http://image.tmdb.org/t/p/w185/bzzDAg3fkztvfQB08VBprhs9tVE.jpg\"/>"
      ],
      "text/plain": [
       "<IPython.core.display.Image object>"
      ]
     },
     "metadata": {},
     "output_type": "display_data"
    },
    {
     "data": {
      "text/html": [
       "<img src=\"http://image.tmdb.org/t/p/w185/22UfH59UppgMtDIMjD6DxhO8J2C.jpg\"/>"
      ],
      "text/plain": [
       "<IPython.core.display.Image object>"
      ]
     },
     "metadata": {},
     "output_type": "display_data"
    }
   ],
   "source": [
    "display(*posters)"
   ]
  },
  {
   "cell_type": "markdown",
   "metadata": {
    "collapsed": true
   },
   "source": [
    "References:\n",
    "\n",
    "1.http://license.umn.edu/technologies/z05173_movielens-database\n",
    "\n",
    "\n",
    "2.https://spark.apache.org/docs/latest/mllib-collaborative-filtering.html\n",
    "\n",
    "\n",
    "3.https://www.tutorialspoint.com/apache_spark/\n",
    "\n",
    "\n",
    "4.https://www.tutorialspoint.com/apache_spark/apache_spark_rdd.html"
   ]
  }
 ],
 "metadata": {
  "anaconda-cloud": {},
  "kernelspec": {
   "display_name": "Python 3",
   "language": "python",
   "name": "python3"
  },
  "language_info": {
   "codemirror_mode": {
    "name": "ipython",
    "version": 3
   },
   "file_extension": ".py",
   "mimetype": "text/x-python",
   "name": "python",
   "nbconvert_exporter": "python",
   "pygments_lexer": "ipython3",
   "version": "3.5.5"
  }
 },
 "nbformat": 4,
 "nbformat_minor": 1
}
